{
 "cells": [
  {
   "cell_type": "markdown",
   "metadata": {},
   "source": [
    "# Plotting watershed and surrounding water"
   ]
  },
  {
   "cell_type": "markdown",
   "metadata": {},
   "source": [
    "In this notebook the watershed data as extracted from the HydroSHEDS dataset in the previous two notebooks is plotted."
   ]
  },
  {
   "cell_type": "code",
   "execution_count": null,
   "metadata": {},
   "outputs": [],
   "source": [
    "import geopandas as gp\n",
    "import pandas as pd\n",
    "import time\n",
    "from matplotlib import pyplot as plt\n",
    "from descartes import PolygonPatch"
   ]
  },
  {
   "cell_type": "markdown",
   "metadata": {},
   "source": [
    "Loading data"
   ]
  },
  {
   "cell_type": "code",
   "execution_count": null,
   "metadata": {},
   "outputs": [],
   "source": [
    "%qtconsole"
   ]
  },
  {
   "cell_type": "code",
   "execution_count": null,
   "metadata": {},
   "outputs": [],
   "source": [
    "padma = gp.read_file('out/padma.shp')"
   ]
  },
  {
   "cell_type": "code",
   "execution_count": null,
   "metadata": {},
   "outputs": [],
   "source": [
    "padma = padma.set_index('ARCID')"
   ]
  },
  {
   "cell_type": "code",
   "execution_count": null,
   "metadata": {},
   "outputs": [],
   "source": [
    "water = gp.read_file('out/water_in_region.shp')"
   ]
  },
  {
   "cell_type": "code",
   "execution_count": null,
   "metadata": {},
   "outputs": [],
   "source": [
    "water = water.set_index('ARCID')"
   ]
  },
  {
   "cell_type": "code",
   "execution_count": null,
   "metadata": {},
   "outputs": [],
   "source": [
    "regions = gp.read_file('adm regions/combined.shp')"
   ]
  },
  {
   "cell_type": "code",
   "execution_count": null,
   "metadata": {},
   "outputs": [],
   "source": [
    "water_excl = water[~water.isin(padma)]"
   ]
  },
  {
   "cell_type": "code",
   "execution_count": null,
   "metadata": {},
   "outputs": [],
   "source": [
    "water_excl = water_excl[water_excl['geometry'].notnull()]"
   ]
  },
  {
   "cell_type": "code",
   "execution_count": null,
   "metadata": {},
   "outputs": [],
   "source": [
    "water_excl.to_file('out/water_in_region_excl.shp')"
   ]
  },
  {
   "cell_type": "code",
   "execution_count": null,
   "metadata": {},
   "outputs": [],
   "source": [
    "west, south, east, north = padma.total_bounds"
   ]
  },
  {
   "cell_type": "markdown",
   "metadata": {},
   "source": [
    "## Plot of watershed"
   ]
  },
  {
   "cell_type": "code",
   "execution_count": null,
   "metadata": {},
   "outputs": [],
   "source": [
    "#fig, ax = plt.subplots(1, figsize=(7,7))\n",
    "fig = plt.figure(figsize=(7,7),dpi=300)\n",
    "ax = fig.add_subplot(111)\n",
    "regions.plot(ax=ax,fc='#cccccc', ec='k', alpha=0.5, zorder=2)\n",
    "padma.plot(ax=ax,color='b',linewidth=0.1)\n",
    "#water_excl.plot(ax=ax,color='r')\n",
    "\n",
    "#ax.set_xlim(west-4, east+1)\n",
    "#ax.set_ylim(south-3, north+5)\n",
    "ax.axis('off')\n",
    "plt.savefig('../thesis/report/figs/padma_watershed.png', bbox_inches = 'tight')\n",
    "#plt.savefig('../thesis/report/figs/padma_watershed.pdf', bbox_inches = 'tight')"
   ]
  },
  {
   "cell_type": "markdown",
   "metadata": {},
   "source": [
    "## Plot of watershed with highlighted main river lines"
   ]
  },
  {
   "cell_type": "code",
   "execution_count": null,
   "metadata": {},
   "outputs": [],
   "source": [
    "fig, ax = plt.subplots(1, figsize=(7,7),dpi=300)\n",
    "regions.plot(ax=ax,fc='#cccccc', ec='k', alpha=0.5, zorder=2)\n",
    "padma.plot(ax=ax,color='b',linewidth=0.1)\n",
    "padma[padma.UP_CELLS>50000].plot(ax=ax,color='r',linewidth=0.2)\n",
    "#water_excl.plot(ax=ax,color='r')\n",
    "\n",
    "ax.set_xlim(west-0.5, east+0.5)\n",
    "ax.set_ylim(south-0.5, north+0.5)\n",
    "ax.axis('off')\n",
    "plt.savefig('../thesis/report/figs/padma_watershed_mainlines_2.png', bbox_inches = 'tight')\n",
    "#plt.savefig('../thesis/report/figs/padma_watershed.pdf', bbox_inches = 'tight')"
   ]
  },
  {
   "cell_type": "markdown",
   "metadata": {},
   "source": [
    "Compare with this wikipedia image of the Ganges Brahmaputra Basin:"
   ]
  },
  {
   "cell_type": "markdown",
   "metadata": {},
   "source": [
    "![Wikipedia image of Ganges-Brahmaputra Basin](https://upload.wikimedia.org/wikipedia/commons/3/34/Ganges-Brahmaputra-Meghna_basins.jpg)"
   ]
  },
  {
   "cell_type": "markdown",
   "metadata": {},
   "source": [
    "### Plot of watershed with highlighted main river lines, less strict"
   ]
  },
  {
   "cell_type": "code",
   "execution_count": null,
   "metadata": {},
   "outputs": [],
   "source": [
    "fig, ax = plt.subplots(1, figsize=(7,7),dpi=300)\n",
    "regions.plot(ax=ax,fc='#cccccc', ec='k', alpha=0.5, zorder=2)\n",
    "padma.plot(ax=ax,color='b',linewidth=0.1)\n",
    "padma[padma.UP_CELLS>10000].plot(ax=ax,color='r',linewidth=0.2)\n",
    "#water_excl.plot(ax=ax,color='r')\n",
    "\n",
    "ax.set_xlim(west-0.5, east+0.5)\n",
    "ax.set_ylim(south-0.5, north+0.5)\n",
    "ax.axis('off')\n",
    "plt.savefig('../thesis/report/figs/padma_watershed_mainlines.png', bbox_inches = 'tight')\n",
    "#plt.savefig('../thesis/report/figs/padma_watershed.pdf', bbox_inches = 'tight')"
   ]
  },
  {
   "cell_type": "markdown",
   "metadata": {},
   "source": [
    "## Plot of watershed with river sections not in the watershed, but within the region"
   ]
  },
  {
   "cell_type": "code",
   "execution_count": null,
   "metadata": {},
   "outputs": [],
   "source": [
    "fig, ax = plt.subplots(1, figsize=(7,7),dpi=300)\n",
    "regions.plot(ax=ax,fc='#cccccc', ec='k', alpha=0.5, zorder=2)\n",
    "padma.plot(ax=ax,color='b',linewidth=0.1)\n",
    "water_excl.plot(ax=ax,color='r',linewidth=0.1)\n",
    "\n",
    "ax.axis('off')\n",
    "plt.savefig('../thesis/report/figs/padma_watershed_all_water.png', bbox_inches = 'tight')\n",
    "#plt.savefig('../thesis/report/figs/padma_watershed_all_water.pdf', bbox_inches = 'tight')"
   ]
  }
 ],
 "metadata": {
  "kernelspec": {
   "display_name": "Python 3",
   "language": "python",
   "name": "python3"
  },
  "language_info": {
   "codemirror_mode": {
    "name": "ipython",
    "version": 3
   },
   "file_extension": ".py",
   "mimetype": "text/x-python",
   "name": "python",
   "nbconvert_exporter": "python",
   "pygments_lexer": "ipython3",
   "version": "3.7.4"
  },
  "nbsphinx": {
   "execute": "never"
  }
 },
 "nbformat": 4,
 "nbformat_minor": 4
}
