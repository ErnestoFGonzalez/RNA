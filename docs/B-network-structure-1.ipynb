{
 "cells": [
  {
   "cell_type": "markdown",
   "metadata": {},
   "source": [
    "# Network 1: confluences only"
   ]
  },
  {
   "cell_type": "markdown",
   "metadata": {},
   "source": [
    "In the following sections two examples of networks are given.\n",
    "These exmples show how the developed class can be used to model small river networks.\n",
    "This simple network only contains confluences and no bifurcations."
   ]
  },
  {
   "cell_type": "code",
   "execution_count": null,
   "metadata": {},
   "outputs": [],
   "source": [
    "import pandas as pd\n",
    "import networkx as nx\n",
    "import matplotlib.pyplot as plt\n",
    "import numpy as np"
   ]
  },
  {
   "cell_type": "code",
   "execution_count": null,
   "metadata": {},
   "outputs": [],
   "source": [
    "from context import RiverNetwork\n",
    "from RiverNetwork import RiverNetwork"
   ]
  },
  {
   "cell_type": "markdown",
   "metadata": {},
   "source": [
    "## Loading network structure"
   ]
  },
  {
   "cell_type": "markdown",
   "metadata": {},
   "source": [
    "An extra file containing wave shapes is loaded as well.\n",
    "This file makes it possible to select arbitrary wave shapes as input flows."
   ]
  },
  {
   "cell_type": "code",
   "execution_count": null,
   "metadata": {},
   "outputs": [],
   "source": [
    "structure1 = RiverNetwork('../data/network-structure-1.xlsx',wave_shapes_location='../data/wave_shapes.xls')"
   ]
  },
  {
   "cell_type": "code",
   "execution_count": null,
   "metadata": {},
   "outputs": [],
   "source": [
    "structure1.draw()"
   ]
  },
  {
   "cell_type": "code",
   "execution_count": null,
   "metadata": {},
   "outputs": [],
   "source": [
    "structure1.draw_base_loads(figsize=(7,3))"
   ]
  },
  {
   "cell_type": "markdown",
   "metadata": {},
   "source": [
    "## Determining calculation order"
   ]
  },
  {
   "cell_type": "markdown",
   "metadata": {},
   "source": [
    "In order to determine the calculation order the following following procedure is used:\n",
    "A Depth First Search (DFS) algorithm is used starting at the sink E.1.\n",
    "The output of this algorithm is a list and tells us all steps from the sink all the way to the sources.\n",
    "The source furthest away from the sink is last in the list (BFS opposed to DFS).\n",
    "By reversing this list a new list with a safe calculation order is created.\n",
    "This list guarantees that all edges are traversed and calculated before they are used."
   ]
  },
  {
   "cell_type": "markdown",
   "metadata": {},
   "source": [
    "## Experiment 1"
   ]
  },
  {
   "cell_type": "markdown",
   "metadata": {},
   "source": [
    "With this baseload and network structure it is possible to perform experiments by setting different inflows on top of the base flows.\n",
    "There are two constant flows selected: these are based on the base load.\n",
    "And two waves are selected from the wave shape file."
   ]
  },
  {
   "cell_type": "code",
   "execution_count": null,
   "metadata": {},
   "outputs": [],
   "source": [
    "structure1.set_constant_flow('S.1',31)\n",
    "structure1.set_wave('S.2',shape_number=5,strength=5)\n",
    "structure1.set_wave('S.3',shape_number=90,strength=5)\n",
    "structure1.set_constant_flow('S.4',31)\n",
    "structure1.draw_Qin(only_sources=True,figsize=(7,4))"
   ]
  },
  {
   "cell_type": "code",
   "execution_count": null,
   "metadata": {},
   "outputs": [],
   "source": [
    "structure1.calc_flow_propagation(30)\n",
    "structure1.draw_Qin(figsize=(7,5))"
   ]
  },
  {
   "cell_type": "markdown",
   "metadata": {},
   "source": [
    ".. warning:: Coloring should change to improve readability.\n",
    "E.g. cluster nodes and give similar colors."
   ]
  },
  {
   "cell_type": "markdown",
   "metadata": {},
   "source": [
    "Here we see that: S.1 (blue) + S.2 (orange) gives A.1 (purple). \n",
    "A.2 (brown) is shifted relative to A.1.\n",
    "S.3 (green) + S.4 (red) gives B.1 (yellow).\n",
    "A.2 and B.1 give A.3 (pink).\n",
    "And clearly A.3, A.4 (grey) and E.1 (light blue) are just simple muskingum transformations."
   ]
  },
  {
   "cell_type": "markdown",
   "metadata": {},
   "source": [
    "## Experiment 2"
   ]
  },
  {
   "cell_type": "markdown",
   "metadata": {},
   "source": [
    "Now it is possible to add any other extra inflow.\n",
    "In the following experiment a peak flow is added to S.1."
   ]
  },
  {
   "cell_type": "code",
   "execution_count": null,
   "metadata": {},
   "outputs": [],
   "source": [
    "shape = np.zeros(30)\n",
    "shape[4] = 1\n",
    "shape[5] = 3\n",
    "shape[6] = 10\n",
    "shape[7] = 3\n",
    "shape[8] = 1\n",
    "structure1.set_shape('S.1',30,shape)\n",
    "structure1.set_wave('S.2',shape_number=5,strength=5)\n",
    "structure1.set_wave('S.3',shape_number=90,strength=5)\n",
    "structure1.set_constant_flow('S.4',30)\n",
    "structure1.draw_Qin(only_sources=True,figsize=(7,4))"
   ]
  },
  {
   "cell_type": "code",
   "execution_count": null,
   "metadata": {},
   "outputs": [],
   "source": [
    "structure1.calc_flow_propagation(30)\n",
    "structure1.draw_Qin(figsize=(7,5))"
   ]
  },
  {
   "cell_type": "markdown",
   "metadata": {},
   "source": [
    "Because of the peak shape the propagation through the network can clearly be seen."
   ]
  },
  {
   "cell_type": "markdown",
   "metadata": {},
   "source": [
    "## Experiment 3"
   ]
  },
  {
   "cell_type": "markdown",
   "metadata": {},
   "source": [
    "This effect can even be made larger:"
   ]
  },
  {
   "cell_type": "code",
   "execution_count": null,
   "metadata": {},
   "outputs": [],
   "source": [
    "shape = np.zeros(30)\n",
    "shape[4] = 1\n",
    "shape[5] = 3\n",
    "shape[6] = 40\n",
    "shape[7] = 3\n",
    "shape[8] = 1\n",
    "structure1.set_shape('S.1',30,shape)\n",
    "structure1.draw_Qin(only_sources=True,figsize=(7,4))"
   ]
  },
  {
   "cell_type": "code",
   "execution_count": null,
   "metadata": {},
   "outputs": [],
   "source": [
    "structure1.calc_flow_propagation(30)\n",
    "structure1.draw_Qin(figsize=(7,5))"
   ]
  }
 ],
 "metadata": {
  "kernelspec": {
   "display_name": "Python 3",
   "language": "python",
   "name": "python3"
  },
  "language_info": {
   "codemirror_mode": {
    "name": "ipython",
    "version": 3
   },
   "file_extension": ".py",
   "mimetype": "text/x-python",
   "name": "python",
   "nbconvert_exporter": "python",
   "pygments_lexer": "ipython3",
   "version": "3.7.4"
  }
 },
 "nbformat": 4,
 "nbformat_minor": 4
}
