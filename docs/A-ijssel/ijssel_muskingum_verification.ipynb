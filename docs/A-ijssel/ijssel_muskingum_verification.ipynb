{
 "cells": [
  {
   "cell_type": "markdown",
   "metadata": {},
   "source": [
    "# Muskingum routing in the IJssel - verification script"
   ]
  },
  {
   "cell_type": "markdown",
   "metadata": {},
   "source": [
    "Code adjusted from https://github.com/quaquel/epa1361_open.\n",
    "The output of this model is equal to my own model, as can be seen in [this script](ijssel_muskingum.ipynb).\n",
    "\n",
    "Source: https://onlinelibrary.wiley.com/doi/abs/10.1111/jfr3.12532\n",
    "\n",
    "Ciullo, A., de Bruijn, K. M., Kwakkel, J. H., & Klijn, F. (2019). Accounting for the uncertain effects of hydraulic interactions in optimising embankments heights: Proof of principle for the IJssel River. Journal of Flood Risk Management, e12532."
   ]
  },
  {
   "cell_type": "code",
   "execution_count": null,
   "metadata": {},
   "outputs": [],
   "source": [
    "import sys\n",
    "import os\n",
    "import pandas as pd\n",
    "import numpy as np\n",
    "import matplotlib.pyplot as plt"
   ]
  },
  {
   "cell_type": "code",
   "execution_count": null,
   "metadata": {},
   "outputs": [],
   "source": [
    "import generate_network\n",
    "from functions_ijssel_muskingum import Muskingum"
   ]
  },
  {
   "cell_type": "code",
   "execution_count": null,
   "metadata": {},
   "outputs": [],
   "source": [
    "G, dike_list = generate_network.get_network()"
   ]
  },
  {
   "cell_type": "code",
   "execution_count": null,
   "metadata": {},
   "outputs": [],
   "source": [
    "class DikeNetwork(object):\n",
    "    def __init__(self):\n",
    "        # planning steps\n",
    "        self.num_events = 30\n",
    "        \n",
    "        # load network\n",
    "        G, dike_list = generate_network.get_network()\n",
    "\n",
    "        self.Qpeaks = 2000 #np.random.uniform(1000,16000,100)\n",
    "        \n",
    "        self.G = G\n",
    "        self.dikelist = dike_list\n",
    "        \n",
    "    def printG(self):\n",
    "        print(G.nodes.data())\n",
    "        \n",
    "    def getG(self):\n",
    "        return G\n",
    "        \n",
    "        \n",
    "    def init_node(self,value, time):\n",
    "        init = np.repeat(value, len(time)).tolist()\n",
    "        return init\n",
    "\n",
    "    def _initialize_hydroloads(self, node, time, Q_0):\n",
    "        #node['cumVol'], node['wl'], node['Qpol'], node['hbas'] = (\n",
    "        #    self.init_node(0, time) for _ in range(4))\n",
    "        node['Qin'], node['Qout'] = (self.init_node(Q_0, time) for _ in range(2))\n",
    "        #node['status'] = self.init_node(False, time)\n",
    "        #node['tbreach'] = np.nan\n",
    "        return node\n",
    "    \n",
    "    def calc_wave(self,timestep=1):\n",
    "        startnode = G.node['A.0']\n",
    "        waveshape_id = 0\n",
    "        Qpeak = self.Qpeaks#[0]\n",
    "        dikelist = self.dikelist\n",
    "        time = np.arange(0, startnode['Qevents_shape'].loc[waveshape_id].shape[0],\n",
    "                             timestep)\n",
    "        startnode['Qout'] = Qpeak * startnode['Qevents_shape'].loc[waveshape_id]\n",
    "        \n",
    "        # Initialize hydrological event:\n",
    "        for key in dikelist:\n",
    "            node = G.node[key] \n",
    "            #Q_0 = int(G.node['A.0']['Qout'][0])\n",
    "            Q_0 = G.node['A.0']['Qout'][0]\n",
    "            self._initialize_hydroloads(node, time, Q_0)\n",
    "            \n",
    "        # Run the simulation:\n",
    "        # Run over the discharge wave:\n",
    "        for t in range(1, len(time)):\n",
    "            # Run over each node of the branch:\n",
    "            for n in range(0, len(dikelist)):\n",
    "                # Select current node:\n",
    "                node = G.node[dikelist[n]]\n",
    "                if node['type'] == 'dike':\n",
    "                    # Muskingum parameters:\n",
    "                    C1 = node['C1']\n",
    "                    C2 = node['C2']\n",
    "                    C3 = node['C3']\n",
    "                    \n",
    "                    prev_node = G.node[node['pnode']]\n",
    "                    # Evaluate Q coming in a given node at time t:\n",
    "                    node['Qin'][t] = Muskingum(C1, C2, C3,\n",
    "                                                   prev_node['Qout'][t],\n",
    "                                                   prev_node['Qout'][t - 1],\n",
    "                                                   node['Qin'][t - 1])\n",
    "                     \n",
    "                    node['Qout'][t] = node['Qin'][t]\n",
    "                    \n",
    "    def __call__(self, timestep=1, **kwargs):\n",
    "        G = self.G\n",
    "        Qpeaks = self.Qpeaks\n",
    "        dikelist = self.dikelist"
   ]
  },
  {
   "cell_type": "code",
   "execution_count": null,
   "metadata": {},
   "outputs": [],
   "source": [
    "dikeNetwork = DikeNetwork()"
   ]
  },
  {
   "cell_type": "code",
   "execution_count": null,
   "metadata": {},
   "outputs": [],
   "source": [
    "dikeNetwork.calc_wave()"
   ]
  },
  {
   "cell_type": "code",
   "execution_count": null,
   "metadata": {},
   "outputs": [],
   "source": [
    "G = dikeNetwork.getG()"
   ]
  },
  {
   "cell_type": "code",
   "execution_count": null,
   "metadata": {},
   "outputs": [],
   "source": [
    "#G.nodes['A.1']"
   ]
  },
  {
   "cell_type": "code",
   "execution_count": null,
   "metadata": {},
   "outputs": [],
   "source": [
    "plt.figure(figsize=(20,10))\n",
    "plt.plot(G.node['A.0']['Qout'])\n",
    "df = pd.DataFrame({'Qin':G.node['A.0']['Qout']})\n",
    "\n",
    "dikelist = dikeNetwork.dikelist\n",
    "for n in range(0, len(dikelist)):\n",
    "    node = G.node[dikelist[n]]\n",
    "    plt.plot(node['Qin'])\n",
    "    df[dikelist[n]] = node['Qin']"
   ]
  },
  {
   "cell_type": "code",
   "execution_count": null,
   "metadata": {},
   "outputs": [],
   "source": [
    "df"
   ]
  }
 ],
 "metadata": {
  "kernelspec": {
   "display_name": "Python 3",
   "language": "python",
   "name": "python3"
  },
  "language_info": {
   "codemirror_mode": {
    "name": "ipython",
    "version": 3
   },
   "file_extension": ".py",
   "mimetype": "text/x-python",
   "name": "python",
   "nbconvert_exporter": "python",
   "pygments_lexer": "ipython3",
   "version": "3.7.4"
  }
 },
 "nbformat": 4,
 "nbformat_minor": 4
}
